{
 "cells": [
  {
   "cell_type": "code",
   "execution_count": 1,
   "metadata": {},
   "outputs": [],
   "source": [
    "%load_ext autoreload\n",
    "%autoreload 2"
   ]
  },
  {
   "cell_type": "code",
   "execution_count": 2,
   "metadata": {},
   "outputs": [],
   "source": [
    "import numpy as np\n",
    "import matplotlib.pyplot as plt\n",
    "import cv2\n",
    "from tqdm import tqdm\n",
    "import subprocess\n",
    "from pathlib import Path\n",
    "from glob import glob\n",
    "import re\n",
    "from os.path import join as pjoin"
   ]
  },
  {
   "cell_type": "code",
   "execution_count": 5,
   "metadata": {},
   "outputs": [],
   "source": [
    "dry_run = False\n",
    "\n",
    "RAW_DIR = '/Users/richard/Desktop/Raw/'\n",
    "OUT_DIR = '/Users/richard/Desktop/Motorized-Dataset/'\n",
    "TRAJS_DIR = OUT_DIR\n",
    "trajs_per_vid = 2\n",
    "\n",
    "renderer_path = '../PanoRenderer/build/main'\n",
    "vids_paths = sorted(glob(pjoin(RAW_DIR, '*.mp4')))\n",
    "trajs_paths = sorted(glob(pjoin(TRAJS_DIR, 't*.npy')))\n",
    "yc_paths = [i[:-4] + '-yc.npy' for i in vids_paths]"
   ]
  },
  {
   "cell_type": "code",
   "execution_count": 6,
   "metadata": {},
   "outputs": [
    {
     "name": "stderr",
     "output_type": "stream",
     "text": [
      "0it [00:00, ?it/s]"
     ]
    },
    {
     "name": "stdout",
     "output_type": "stream",
     "text": [
      "Processing video v00\n",
      "\tUsing trajectory t000...\n"
     ]
    },
    {
     "name": "stderr",
     "output_type": "stream",
     "text": [
      "0it [00:35, ?it/s]"
     ]
    },
    {
     "name": "stdout",
     "output_type": "stream",
     "text": [
      "\tUsing trajectory t001...\n"
     ]
    },
    {
     "name": "stderr",
     "output_type": "stream",
     "text": [
      "1it [01:12, 72.02s/it]"
     ]
    },
    {
     "name": "stdout",
     "output_type": "stream",
     "text": [
      "Processing video v01\n",
      "\tUsing trajectory t002...\n"
     ]
    },
    {
     "name": "stderr",
     "output_type": "stream",
     "text": [
      "1it [01:55, 72.02s/it]"
     ]
    },
    {
     "name": "stdout",
     "output_type": "stream",
     "text": [
      "\tUsing trajectory t003...\n"
     ]
    },
    {
     "name": "stderr",
     "output_type": "stream",
     "text": [
      "2it [02:38, 80.42s/it]"
     ]
    },
    {
     "name": "stdout",
     "output_type": "stream",
     "text": [
      "Processing video v02\n",
      "\tUsing trajectory t004...\n"
     ]
    },
    {
     "name": "stderr",
     "output_type": "stream",
     "text": [
      "2it [02:40, 80.42s/it]"
     ]
    },
    {
     "name": "stdout",
     "output_type": "stream",
     "text": [
      "\tUsing trajectory t005...\n"
     ]
    },
    {
     "name": "stderr",
     "output_type": "stream",
     "text": [
      "3it [03:21, 63.34s/it]"
     ]
    },
    {
     "name": "stdout",
     "output_type": "stream",
     "text": [
      "Processing video v03\n",
      "\tUsing trajectory t006...\n"
     ]
    },
    {
     "name": "stderr",
     "output_type": "stream",
     "text": [
      "3it [04:01, 63.34s/it]"
     ]
    },
    {
     "name": "stdout",
     "output_type": "stream",
     "text": [
      "\tUsing trajectory t007...\n"
     ]
    },
    {
     "name": "stderr",
     "output_type": "stream",
     "text": [
      "4it [04:40, 69.68s/it]"
     ]
    },
    {
     "name": "stdout",
     "output_type": "stream",
     "text": [
      "Processing video v04\n",
      "\tUsing trajectory t008...\n"
     ]
    },
    {
     "name": "stderr",
     "output_type": "stream",
     "text": [
      "4it [05:19, 69.68s/it]"
     ]
    },
    {
     "name": "stdout",
     "output_type": "stream",
     "text": [
      "\tUsing trajectory t009...\n"
     ]
    },
    {
     "name": "stderr",
     "output_type": "stream",
     "text": [
      "5it [05:56, 71.90s/it]"
     ]
    },
    {
     "name": "stdout",
     "output_type": "stream",
     "text": [
      "Processing video v05\n",
      "\tUsing trajectory t010...\n"
     ]
    },
    {
     "name": "stderr",
     "output_type": "stream",
     "text": [
      "5it [06:33, 71.90s/it]"
     ]
    },
    {
     "name": "stdout",
     "output_type": "stream",
     "text": [
      "\tUsing trajectory t011...\n"
     ]
    },
    {
     "name": "stderr",
     "output_type": "stream",
     "text": [
      "6it [07:10, 71.80s/it]\n"
     ]
    }
   ],
   "source": [
    "render_traj_path = 'tmp-traj.npy'\n",
    "\n",
    "\n",
    "traj_idx = 0\n",
    "for vid_path, yc_path in tqdm(zip(vids_paths, yc_paths)):\n",
    "\n",
    "    #a, b, v_id, _ = parse_vid_name(vid_path)\n",
    "    #tqdm.write(f'Processing video {a}-{b}-v{v_id}')\n",
    "    vid_stem = Path(vid_path).stem\n",
    "    tqdm.write(f'Processing video {vid_stem}')\n",
    "\n",
    "    for _ in range(trajs_per_vid):\n",
    "\n",
    "        traj_stem = Path(trajs_paths[traj_idx]).stem\n",
    "        tqdm.write(f'\\tUsing trajectory {traj_stem}...')\n",
    "\n",
    "        # Load desired trajectory & apply yaw correction\n",
    "        traj = np.load(trajs_paths[traj_idx])\n",
    "        yc = np.load(yc_path)\n",
    "        for i, e in enumerate(traj):\n",
    "            e[0] += yc[i]\n",
    "        np.save(render_traj_path, traj)\n",
    "\n",
    "        output_vid_path = pjoin(OUT_DIR, f'{traj_stem}-{vid_stem}.mp4')\n",
    "\n",
    "        render_cmd = [renderer_path, vid_path, render_traj_path, output_vid_path]\n",
    "\n",
    "\n",
    "        if dry_run:\n",
    "            tqdm.write(' '.join(render_cmd))\n",
    "        else:\n",
    "            result = subprocess.run(render_cmd)\n",
    "            assert result.returncode == 0\n",
    "\n",
    "        traj_idx += 1\n",
    "\n"
   ]
  },
  {
   "cell_type": "code",
   "execution_count": null,
   "metadata": {},
   "outputs": [],
   "source": []
  }
 ],
 "metadata": {
  "kernelspec": {
   "display_name": "base",
   "language": "python",
   "name": "python3"
  },
  "language_info": {
   "codemirror_mode": {
    "name": "ipython",
    "version": 3
   },
   "file_extension": ".py",
   "mimetype": "text/x-python",
   "name": "python",
   "nbconvert_exporter": "python",
   "pygments_lexer": "ipython3",
   "version": "3.10.13"
  }
 },
 "nbformat": 4,
 "nbformat_minor": 2
}
