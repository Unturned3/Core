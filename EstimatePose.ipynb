{
 "cells": [
  {
   "cell_type": "code",
   "execution_count": 1,
   "metadata": {},
   "outputs": [],
   "source": [
    "%load_ext autoreload\n",
    "%autoreload 2"
   ]
  },
  {
   "cell_type": "code",
   "execution_count": 2,
   "metadata": {},
   "outputs": [],
   "source": [
    "import numpy as np\n",
    "import utils\n",
    "from ImageMatcher import ImageMatcher, ImagePair\n",
    "import h5py\n",
    "from scipy.spatial.transform import Rotation as Rot\n",
    "import cv2\n",
    "import matplotlib.pyplot as plt\n",
    "from pathlib import Path\n",
    "import subprocess\n",
    "from glob import glob"
   ]
  },
  {
   "cell_type": "code",
   "execution_count": 3,
   "metadata": {},
   "outputs": [],
   "source": [
    "DATA_DIR = '/Users/richard/Desktop/Motorized-Dataset/'\n",
    "TRAJ_DIR = DATA_DIR\n",
    "\n",
    "in_vid_paths = sorted(glob(DATA_DIR + '*.mp4'))\n",
    "\n",
    "in_vid_path = in_vid_paths[6]\n",
    "in_vid_stem = Path(in_vid_path).stem"
   ]
  },
  {
   "cell_type": "code",
   "execution_count": 4,
   "metadata": {},
   "outputs": [
    {
     "name": "stdout",
     "output_type": "stream",
     "text": [
      "Using video: t006-v01\n",
      "n_frames: 900\n"
     ]
    }
   ],
   "source": [
    "frames = utils.load_video(in_vid_path,\n",
    "                          grayscale=True)\n",
    "masks = np.load(DATA_DIR + in_vid_stem + '-masks.npz')['masks']\n",
    "video_width = frames[0].shape[1]\n",
    "\n",
    "print('Using video:', in_vid_stem)\n",
    "print('n_frames:', len(frames))\n",
    "\n",
    "kf_interval = 30\n",
    "matcher = ImageMatcher(frames, human_masks=masks, keyframe_interval=kf_interval)"
   ]
  },
  {
   "cell_type": "code",
   "execution_count": null,
   "metadata": {},
   "outputs": [],
   "source": [
    "idx = 662\n",
    "plt.imshow(frames[idx], 'gray')\n",
    "plt.imshow(matcher.human_masks[idx], alpha=0.5, cmap='jet')\n",
    "plt.show()"
   ]
  },
  {
   "cell_type": "code",
   "execution_count": null,
   "metadata": {},
   "outputs": [],
   "source": [
    "p = matcher.match(662, 663, 'orb',\n",
    "                    min_match_count=25)\n",
    "print(np.mean(matcher.human_masks[idx]))\n",
    "print(f'Number of matches: {len(p.src_pts)}')\n",
    "utils.visualize_matches(p)"
   ]
  },
  {
   "cell_type": "code",
   "execution_count": 5,
   "metadata": {},
   "outputs": [
    {
     "name": "stdout",
     "output_type": "stream",
     "text": [
      "Number of loop closures: 67\n",
      "Number closure residuals: 5424\n",
      "Total number of image pairs: 966\n"
     ]
    }
   ],
   "source": [
    "image_pairs = []\n",
    "closures = []\n",
    "\n",
    "# Find loop closures\n",
    "if True:\n",
    "    for i in range(0, len(frames) - kf_interval, kf_interval):\n",
    "        for j in range(i + kf_interval, len(frames), kf_interval):\n",
    "            if matcher.sift_kds[i] is None or matcher.sift_kds[j] is None:\n",
    "                continue\n",
    "            p = matcher.match(i, j, 'sift',\n",
    "                            min_match_count=25)\n",
    "            if p is None:\n",
    "                continue\n",
    "            closures.append(p)\n",
    "            image_pairs.append(p)\n",
    "\n",
    "if True:\n",
    "    for i in range(0, len(frames) - 1):\n",
    "        p = matcher.match(\n",
    "            i, i+1,\n",
    "            min_match_count=60,\n",
    "            ransac_max_iters=2000,\n",
    "            #keep_percent=0.5,\n",
    "            verbose=True,\n",
    "        )\n",
    "        if p is None:\n",
    "            print('No match found for frames', i, i+1)\n",
    "        image_pairs.append(p)\n",
    "\n",
    "print('Number of loop closures:', len(closures))\n",
    "\n",
    "closure_residuals_cnt = 0\n",
    "for p in closures:\n",
    "    closure_residuals_cnt += len(p.src_pts)\n",
    "print('Number closure residuals:', closure_residuals_cnt)\n",
    "\n",
    "print('Total number of image pairs:', len(image_pairs))\n",
    "\n",
    "utils.export_image_pairs(DATA_DIR + in_vid_stem + '-pairs.h5', image_pairs)"
   ]
  },
  {
   "cell_type": "code",
   "execution_count": null,
   "metadata": {},
   "outputs": [],
   "source": [
    "for p in closures:\n",
    "    print(f'Number of matches from {p.i} to {p.j}: {len(p.src_pts)}')\n",
    "    utils.visualize_matches(p)"
   ]
  },
  {
   "cell_type": "code",
   "execution_count": 24,
   "metadata": {},
   "outputs": [
    {
     "name": "stdout",
     "output_type": "stream",
     "text": [
      "Optimizing poses for t006-v01.\n",
      "Loaded 966 image pairs.\n",
      "iter      cost      cost_change  |gradient|   |step|    tr_ratio  tr_radius  ls_iter  iter_time  total_time\n",
      "   0  1.801452e+10    0.00e+00    1.42e+10   0.00e+00   0.00e+00  1.00e+04        0    3.26e-01    6.16e-01\n",
      "   1  2.613593e+08    1.78e+10    1.81e+11   0.00e+00   9.97e-01  3.00e+04        1    6.96e-01    1.31e+00\n",
      "   2  4.586690e+08   -1.97e+08    1.81e+11   9.63e+03  -8.01e-01  1.50e+04        1    1.40e-01    1.45e+00\n",
      "   3  3.036271e+08   -4.23e+07    1.81e+11   8.38e+03  -1.72e-01  3.75e+03        1    1.28e-01    1.58e+00\n",
      "   4  6.359324e+07    1.98e+08    1.44e+10   6.53e+03   8.08e-01  4.90e+03        1    4.94e-01    2.07e+00\n",
      "   5  8.159910e+06    5.54e+07    2.12e+10   2.62e+03   9.45e-01  1.47e+04        1    5.08e-01    2.58e+00\n",
      "   6  7.821324e+06    3.39e+05    5.29e+09   3.45e+03   1.00e-01  9.73e+03        1    5.11e-01    3.09e+00\n",
      "   7  5.685250e+07   -4.90e+07    5.29e+09   1.54e+04  -2.15e+01  4.86e+03        1    1.41e-01    3.23e+00\n",
      "   8  5.129713e+07   -4.35e+07    5.29e+09   6.82e+03  -1.95e+01  1.22e+03        1    1.25e-01    3.36e+00\n",
      "   9  2.965813e+08   -2.89e+08    5.29e+09   1.29e+03  -1.34e+02  1.52e+02        1    1.27e-01    3.49e+00\n",
      "  10  9.300783e+06   -1.48e+06    5.29e+09   1.95e+03  -7.30e-01  9.50e+00        1    1.27e-01    3.61e+00\n",
      "  11  8.068562e+06   -2.47e+05    5.29e+09   1.65e+03  -1.35e-01  2.97e-01        1    1.25e-01    3.74e+00\n",
      "  12  6.991318e+06    8.30e+05    1.89e+09   3.58e+02   1.00e+00  8.91e-01        1    4.95e-01    4.23e+00\n",
      "  13  6.040988e+06    9.50e+05    5.47e+08   7.52e+02   1.09e+00  2.67e+00        1    5.24e-01    4.76e+00\n",
      "  14  5.258910e+06    7.82e+05    1.45e+08   6.08e+02   1.12e+00  8.02e+00        1    5.10e-01    5.27e+00\n",
      "  15  4.915257e+06    3.44e+05    3.77e+07   1.21e+02   9.67e-01  2.40e+01        1    5.05e-01    5.77e+00\n",
      "  16  4.652700e+06    2.63e+05    2.03e+07   1.26e+02   1.02e+00  7.21e+01        1    5.11e-01    6.28e+00\n",
      "  17  4.427617e+06    2.25e+05    1.17e+07   1.37e+02   1.10e+00  2.16e+02        1    5.08e-01    6.79e+00\n",
      "  18  4.276492e+06    1.51e+05    2.04e+07   1.45e+02   9.04e-01  4.59e+02        1    5.09e-01    7.30e+00\n",
      "  19  4.119623e+06    1.57e+05    1.54e+07   1.13e+02   1.04e+00  1.38e+03        1    5.05e-01    7.80e+00\n",
      "  20  4.012716e+06    1.07e+05    4.45e+07   1.65e+02   6.87e-01  1.45e+03        1    5.14e-01    8.32e+00\n",
      "  21  3.916236e+06    9.65e+04    2.41e+07   1.58e+02   9.07e-01  3.15e+03        1    5.13e-01    8.83e+00\n",
      "  22  3.919428e+06   -3.19e+03    2.41e+07   3.56e+02  -2.56e-02  1.58e+03        1    1.38e-01    8.97e+00\n",
      "  23  3.904931e+06    1.13e+04    7.05e+07   1.88e+02   1.20e-01  1.09e+03        1    5.00e-01    9.47e+00\n",
      "  24  3.838616e+06    6.63e+04    1.72e+07   1.66e+02   7.51e-01  1.25e+03        1    5.03e-01    9.97e+00\n",
      "  25  3.774934e+06    6.37e+04    3.11e+07   2.27e+02   8.94e-01  2.45e+03        1    5.67e-01    1.05e+01\n",
      "  26  3.719127e+06    5.58e+04    3.07e+08   5.38e+02   8.43e-01  3.63e+03        1    5.12e-01    1.11e+01\n",
      "  27  3.987301e+06   -2.68e+05    3.07e+08   1.05e+03  -3.71e+00  1.81e+03        1    1.37e-01    1.12e+01\n",
      "  28  3.667607e+06    5.15e+04    1.22e+08   5.48e+02   9.21e-01  4.50e+03        1    5.00e-01    1.17e+01\n",
      "  29  3.619192e+06    4.84e+04    5.36e+07   1.47e+03   6.60e-01  4.65e+03        1    5.04e-01    1.22e+01\n",
      "  30  3.647930e+06   -2.87e+04    5.36e+07   1.98e+03  -3.43e-01  2.33e+03        1    1.38e-01    1.23e+01\n",
      "  31  3.680457e+06   -6.13e+04    5.36e+07   1.08e+03  -8.31e-01  5.82e+02        1    1.25e-01    1.25e+01\n",
      "  32  3.588518e+06    3.07e+04    1.63e+07   3.19e+02   5.62e-01  5.83e+02        1    4.96e-01    1.30e+01\n",
      "  33  3.558595e+06    2.99e+04    2.11e+07   2.90e+02   7.03e-01  6.24e+02        1    5.08e-01    1.35e+01\n",
      "  34  3.527149e+06    3.14e+04    1.91e+07   3.25e+02   9.30e-01  1.71e+03        1    5.06e-01    1.40e+01\n",
      "  35  3.500032e+06    2.71e+04    2.80e+07   7.83e+02   7.90e-01  2.13e+03        1    5.09e-01    1.45e+01\n",
      "  36  3.476121e+06    2.39e+04    3.89e+07   9.31e+02   5.90e-01  2.14e+03        1    5.07e-01    1.50e+01\n",
      "  37  3.458937e+06    1.72e+04    4.52e+07   7.83e+02   4.01e-01  2.12e+03        1    5.06e-01    1.55e+01\n",
      "  38  3.436532e+06    2.24e+04    4.25e+07   7.35e+02   6.12e-01  2.15e+03        1    5.05e-01    1.60e+01\n",
      "  39  3.419806e+06    1.67e+04    4.37e+07   6.38e+02   6.05e-01  2.17e+03        1    5.10e-01    1.65e+01\n",
      "  40  3.408974e+06    1.08e+04    3.50e+07   5.96e+02   6.42e-01  2.22e+03        1    5.05e-01    1.70e+01\n",
      "  41  3.402300e+06    6.67e+03    3.72e+07   4.82e+02   4.86e-01  2.22e+03        1    5.02e-01    1.75e+01\n",
      "  42  3.397144e+06    5.16e+03    4.18e+07   3.87e+02   3.61e-01  2.17e+03        1    5.06e-01    1.80e+01\n",
      "  43  3.396648e+06    4.95e+02    5.19e+07   2.25e+02   2.75e-02  1.18e+03        1    5.04e-01    1.85e+01\n",
      "  44  3.388350e+06    8.30e+03    2.93e+07   8.68e+01   3.74e-01  1.16e+03        1    5.03e-01    1.90e+01\n",
      "  45  3.383125e+06    5.23e+03    3.47e+07   4.07e+01   3.86e-01  1.14e+03        1    5.04e-01    1.95e+01\n",
      "  46  3.379498e+06    3.63e+03    2.83e+07   2.26e+01   3.53e-01  1.12e+03        1    5.12e-01    2.00e+01\n",
      "  47  3.380163e+06   -6.66e+02    2.83e+07   5.76e+01  -6.58e-02  5.58e+02        1    1.38e-01    2.02e+01\n",
      "  48  3.378739e+06    7.59e+02    3.05e+07   2.54e+01   8.84e-02  3.58e+02        1    4.93e-01    2.07e+01\n",
      "  49  3.375805e+06    2.93e+03    2.31e+07   2.32e+01   3.31e-01  3.45e+02        1    5.09e-01    2.12e+01\n",
      "  50  3.374741e+06    1.06e+03    2.36e+07   2.74e+01   1.89e-01  2.78e+02        1    5.17e-01    2.17e+01\n",
      "  51  3.373135e+06    1.61e+03    2.07e+07   2.61e+01   3.12e-01  2.64e+02        1    5.08e-01    2.22e+01\n",
      "  52  3.372171e+06    9.64e+02    2.05e+07   2.84e+01   2.55e-01  2.36e+02        1    5.06e-01    2.27e+01\n",
      "  53  3.371095e+06    1.08e+03    1.89e+07   2.83e+01   3.16e-01  2.25e+02        1    5.08e-01    2.32e+01\n",
      "  54  3.370232e+06    8.63e+02    1.83e+07   2.97e+01   3.02e-01  2.12e+02        1    5.07e-01    2.37e+01\n",
      "  55  3.369358e+06    8.74e+02    1.74e+07   3.04e+01   3.34e-01  2.04e+02        1    5.11e-01    2.42e+01\n",
      "  56  3.368549e+06    8.09e+02    1.67e+07   3.16e+01   3.38e-01  1.98e+02        1    5.10e-01    2.47e+01\n",
      "  57  3.367749e+06    8.00e+02    1.61e+07   3.27e+01   3.57e-01  1.93e+02        1    5.07e-01    2.53e+01\n",
      "  58  3.366946e+06    8.03e+02    1.54e+07   3.40e+01   3.71e-01  1.90e+02        1    5.02e-01    2.58e+01\n",
      "  59  3.366160e+06    7.86e+02    1.50e+07   3.54e+01   3.83e-01  1.88e+02        1    5.05e-01    2.63e+01\n",
      "  60  3.365328e+06    8.32e+02    1.43e+07   3.69e+01   4.06e-01  1.86e+02        1    5.05e-01    2.68e+01\n",
      "  61  3.364520e+06    8.08e+02    1.41e+07   3.86e+01   4.15e-01  1.85e+02        1    5.05e-01    2.73e+01\n",
      "  62  3.363631e+06    8.89e+02    1.34e+07   4.03e+01   4.46e-01  1.85e+02        1    5.06e-01    2.78e+01\n",
      "  63  3.362778e+06    8.53e+02    1.33e+07   4.23e+01   4.52e-01  1.85e+02        1    5.04e-01    2.83e+01\n",
      "  64  3.361813e+06    9.65e+02    1.26e+07   4.42e+01   4.90e-01  1.85e+02        1    5.05e-01    2.88e+01\n",
      "  65  3.360897e+06    9.15e+02    1.26e+07   4.62e+01   4.93e-01  1.85e+02        1    5.04e-01    2.93e+01\n",
      "  66  3.359846e+06    1.05e+03    1.20e+07   4.82e+01   5.37e-01  1.85e+02        1    5.04e-01    2.98e+01\n",
      "  67  3.358856e+06    9.89e+02    1.19e+07   5.03e+01   5.38e-01  1.85e+02        1    5.06e-01    3.03e+01\n",
      "  68  3.357720e+06    1.14e+03    1.14e+07   5.24e+01   5.83e-01  1.86e+02        1    5.04e-01    3.08e+01\n",
      "  69  3.356649e+06    1.07e+03    1.14e+07   5.46e+01   5.86e-01  1.87e+02        1    5.04e-01    3.13e+01\n",
      "  70  3.355437e+06    1.21e+03    1.09e+07   5.70e+01   6.26e-01  1.90e+02        1    5.01e-01    3.18e+01\n",
      "  71  3.354278e+06    1.16e+03    1.09e+07   5.99e+01   6.33e-01  1.94e+02        1    5.12e-01    3.23e+01\n",
      "  72  3.353004e+06    1.27e+03    1.04e+07   6.31e+01   6.65e-01  2.01e+02        1    5.08e-01    3.28e+01\n",
      "  73  3.351745e+06    1.26e+03    1.05e+07   6.74e+01   6.76e-01  2.10e+02        1    5.11e-01    3.33e+01\n",
      "  74  3.350417e+06    1.33e+03    1.00e+07   7.25e+01   6.95e-01  2.23e+02        1    5.12e-01    3.39e+01\n",
      "  75  3.349043e+06    1.37e+03    1.01e+07   7.90e+01   7.09e-01  2.41e+02        1    5.13e-01    3.44e+01\n",
      "  76  3.347658e+06    1.38e+03    9.65e+06   8.74e+01   7.13e-01  2.61e+02        1    5.15e-01    3.49e+01\n",
      "  77  3.346157e+06    1.50e+03    9.79e+06   9.69e+01   7.31e-01  2.89e+02        1    5.11e-01    3.54e+01\n",
      "  78  3.344689e+06    1.47e+03    9.30e+06   1.10e+02   7.24e-01  3.18e+02        1    5.09e-01    3.59e+01\n",
      "  79  3.343043e+06    1.65e+03    9.50e+06   1.24e+02   7.46e-01  3.61e+02        1    5.06e-01    3.64e+01\n",
      "  80  3.341422e+06    1.62e+03    8.98e+06   1.43e+02   7.38e-01  4.05e+02        1    5.04e-01    3.69e+01\n",
      "  81  3.339577e+06    1.85e+03    9.27e+06   1.65e+02   7.59e-01  4.70e+02        1    5.03e-01    3.74e+01\n",
      "  82  3.337664e+06    1.91e+03    8.72e+06   1.97e+02   7.54e-01  5.40e+02        1    5.00e-01    3.79e+01\n",
      "  83  3.335488e+06    2.18e+03    9.23e+06   2.34e+02   7.56e-01  6.24e+02        1    5.05e-01    3.84e+01\n",
      "  84  3.333113e+06    2.37e+03    8.72e+06   2.78e+02   7.33e-01  6.94e+02        1    5.09e-01    3.89e+01\n",
      "  85  3.330625e+06    2.49e+03    9.71e+06   3.20e+02   6.80e-01  7.28e+02        1    5.03e-01    3.94e+01\n",
      "  86  3.328039e+06    2.59e+03    9.70e+06   3.44e+02   6.26e-01  7.40e+02        1    5.08e-01    3.99e+01\n",
      "  87  3.325644e+06    2.40e+03    1.13e+07   3.59e+02   5.59e-01  7.41e+02        1    5.13e-01    4.05e+01\n",
      "  88  3.323741e+06    1.90e+03    1.28e+07   3.58e+02   4.17e-01  7.37e+02        1    5.07e-01    4.10e+01\n",
      "  89  3.322295e+06    1.45e+03    1.47e+07   3.57e+02   2.80e-01  6.79e+02        1    5.60e-01    4.15e+01\n",
      "  90  3.322261e+06    3.42e+01    1.85e+07   3.29e+02   5.68e-03  3.45e+02        1    5.07e-01    4.20e+01\n",
      "  91  3.319982e+06    2.28e+03    1.69e+07   1.73e+02   3.20e-01  3.30e+02        1    5.11e-01    4.25e+01\n",
      "  92  3.319382e+06    6.00e+02    1.78e+07   1.64e+02   1.51e-01  2.46e+02        1    5.09e-01    4.30e+01\n",
      "  93  3.318441e+06    9.41e+02    1.65e+07   1.23e+02   2.77e-01  2.26e+02        1    5.05e-01    4.36e+01\n",
      "  94  3.317973e+06    4.68e+02    1.65e+07   1.13e+02   2.10e-01  1.89e+02        1    5.05e-01    4.41e+01\n",
      "  95  3.317521e+06    4.51e+02    1.56e+07   9.42e+01   2.46e-01  1.67e+02        1    5.13e-01    4.46e+01\n",
      "  96  3.317201e+06    3.21e+02    1.51e+07   8.30e+01   2.24e-01  1.43e+02        1    5.08e-01    4.51e+01\n",
      "  97  3.316947e+06    2.54e+02    1.45e+07   7.10e+01   2.06e-01  1.19e+02        1    5.05e-01    4.56e+01\n",
      "  98  3.316735e+06    2.12e+02    1.39e+07   5.88e+01   1.95e-01  9.71e+01        1    5.08e-01    4.61e+01\n",
      "  99  3.316579e+06    1.56e+02    1.35e+07   4.79e+01   1.60e-01  7.39e+01        1    5.13e-01    4.66e+01\n",
      " 100  3.316441e+06    1.38e+02    1.29e+07   3.64e+01   1.54e-01  5.55e+01        1    5.12e-01    4.71e+01\n",
      " 101  3.316350e+06    9.16e+01    1.26e+07   2.73e+01   1.14e-01  3.79e+01        1    5.10e-01    4.76e+01\n",
      " 102  3.316265e+06    8.48e+01    1.20e+07   1.87e+01   1.13e-01  2.59e+01        1    5.12e-01    4.81e+01\n",
      " 103  3.316213e+06    5.17e+01    1.17e+07   1.28e+01   7.68e-02  1.61e+01        1    5.09e-01    4.86e+01\n",
      " 104  3.316157e+06    5.66e+01    1.11e+07   7.94e+00   9.04e-02  1.04e+01        1    5.08e-01    4.92e+01\n",
      " 105  3.316118e+06    3.86e+01    1.06e+07   5.13e+00   6.97e-02  6.36e+00        1    5.08e-01    4.97e+01\n",
      " 106  3.316067e+06    5.06e+01    9.72e+06   3.13e+00   1.02e-01  4.22e+00        1    5.01e-01    5.02e+01\n",
      " 107  3.316025e+06    4.28e+01    8.92e+06   2.08e+00   1.04e-01  2.82e+00        1    5.17e-01    5.07e+01\n",
      " 108  3.315975e+06    4.94e+01    7.66e+06   1.39e+00   1.47e-01  2.08e+00        1    5.11e-01    5.12e+01\n",
      " 109  3.315935e+06    4.04e+01    6.53e+06   1.03e+00   1.64e-01  1.60e+00        1    5.02e-01    5.17e+01\n",
      " 110  3.315900e+06    3.47e+01    5.11e+06   7.87e-01   2.03e-01  1.32e+00        1    5.06e-01    5.22e+01\n",
      " 111  3.315876e+06    2.38e+01    4.02e+06   6.51e-01   2.25e-01  1.13e+00        1    5.08e-01    5.27e+01\n",
      " 112  3.315860e+06    1.60e+01    2.86e+06   5.58e-01   2.56e-01  1.02e+00        1    5.09e-01    5.32e+01\n",
      " 113  3.315851e+06    9.59e+00    2.13e+06   5.00e-01   2.83e-01  9.40e-01        1    5.08e-01    5.37e+01\n",
      " 114  3.315845e+06    5.70e+00    1.38e+06   4.62e-01   3.20e-01  8.97e-01        1    5.06e-01    5.42e+01\n",
      " 115  3.315842e+06    3.42e+00    1.04e+06   4.42e-01   3.72e-01  8.82e-01        1    5.09e-01    5.47e+01\n",
      "\n",
      "Solver Summary (v 2.2.0-eigen-(3.4.0)-lapack-suitesparse-(7.3.1)-metis-(5.1.0)-acceleratesparse-eigensparse)\n",
      "\n",
      "                                     Original                  Reduced\n",
      "Parameter blocks                          900                      900\n",
      "Parameters                               3600                     3600\n",
      "Residual blocks                        556109                   556109\n",
      "Residuals                             1112218                  1112218\n",
      "\n",
      "Minimizer                        TRUST_REGION\n",
      "Trust region strategy     LEVENBERG_MARQUARDT\n",
      "Sparse linear algebra library    SUITE_SPARSE \n",
      "\n",
      "                                        Given                     Used\n",
      "Linear solver          SPARSE_NORMAL_CHOLESKY   SPARSE_NORMAL_CHOLESKY\n",
      "Threads                                     1                        1\n",
      "Linear solver ordering              AUTOMATIC                      900\n",
      "\n",
      "Cost:\n",
      "Initial                          1.801452e+10\n",
      "Final                            3.315842e+06\n",
      "Change                           1.801120e+10\n",
      "\n",
      "Minimizer iterations                      116\n",
      "Successful steps                          104\n",
      "Unsuccessful steps                         12\n",
      "\n",
      "Time (in seconds):\n",
      "Preprocessor                         0.290180\n",
      "\n",
      "  Residual only evaluation           6.185943 (116)\n",
      "  Jacobian & residual evaluation    37.081283 (104)\n",
      "  Linear solver                      7.229693 (116)\n",
      "Minimizer                           54.589504\n",
      "\n",
      "Postprocessor                        0.014644\n",
      "Total                               54.894328\n",
      "\n",
      "Termination:                      CONVERGENCE (Function tolerance reached. |cost_change|/cost: 6.835704e-07 <= 1.000000e-06)\n",
      "\n",
      "\n",
      "Average reprojection error: 2.44 pixels\n"
     ]
    }
   ],
   "source": [
    "opt_cmd = [\n",
    "    '../Ceres/build/estimate', DATA_DIR, in_vid_stem + '-pairs.h5',\n",
    "    'LC', 'no_load_params',\n",
    "]\n",
    "ret = subprocess.run(opt_cmd)\n",
    "if ret.returncode != 0:\n",
    "    print(f'{opt_cmd[0]} exited with non-zero return code!')"
   ]
  },
  {
   "cell_type": "code",
   "execution_count": 25,
   "metadata": {},
   "outputs": [
    {
     "name": "stdout",
     "output_type": "stream",
     "text": [
      "angular error mean: 50.34299, max: 174.43811\n",
      "hfov error mean: 19.97359, max: 253.99189\n"
     ]
    },
    {
     "data": {
      "image/png": "[encoded data removed]",
      "text/plain": [
       "<Figure size 640x480 with 1 Axes>"
      ]
     },
     "metadata": {},
     "output_type": "display_data"
    }
   ],
   "source": [
    "cpe, cpg = utils.load_est_gt_poses(\n",
    "    in_vid_path, video_width)\n",
    "\n",
    "cam_params_est, cam_params_gt = utils.set_ref_cam(300, cpe, cpg)\n",
    "\n",
    "# Compute the angular pose error and hfov error between cam_params and cam_params_gt\n",
    "angular_err_abs = []\n",
    "angular_err_rel = []\n",
    "hfov_err_abs = []\n",
    "hfov_err_rel = []\n",
    "cam_indices = []\n",
    "\n",
    "for i in sorted(cam_params_est.keys()):\n",
    "    R = cam_params_est[i]['R']\n",
    "    R_gt = cam_params_gt[i]['R']\n",
    "\n",
    "    ae = np.degrees(Rot.from_matrix(R @ R_gt.T).magnitude())\n",
    "    angular_err_abs.append(ae)\n",
    "    angular_err_rel.append(ae / max(np.degrees(Rot.from_matrix(R_gt.T).magnitude()), 0.1))\n",
    "\n",
    "    hfove = np.abs(cam_params_est[i]['hfov'] - cam_params_gt[i]['hfov'])\n",
    "    hfov_err_abs.append(hfove)\n",
    "    hfov_err_rel.append(hfove / cam_params_gt[i]['hfov'])\n",
    "    cam_indices.append(i)\n",
    "\n",
    "# pretty print the mean / max of angular and hfov errors to 5 sf\n",
    "print(f'angular error mean: {np.mean(angular_err_abs):.5f}, '\n",
    "      f'max: {np.max(angular_err_abs):.5f}')\n",
    "print(f'hfov error mean: {np.mean(hfov_err_abs):.5f}, max: {np.max(hfov_err_abs):.5f}')\n",
    "\n",
    "plt.title('Absolute Error')\n",
    "plt.plot(angular_err_abs, label='angular pose')\n",
    "plt.plot(hfov_err_abs, label='fov')\n",
    "plt.xlabel('Frame')\n",
    "plt.ylabel('Degrees')\n",
    "plt.legend()\n",
    "plt.show()\n",
    "\n",
    "#plt.title('Relative Error')\n",
    "#plt.plot(angular_err_rel, label='angular pose')\n",
    "#plt.plot(hfov_err_rel, label='fov')\n",
    "#plt.xlabel('Frame')\n",
    "#plt.legend()\n",
    "#plt.show()"
   ]
  },
  {
   "cell_type": "code",
   "execution_count": null,
   "metadata": {},
   "outputs": [],
   "source": [
    "angular_err_abs[663]"
   ]
  },
  {
   "cell_type": "code",
   "execution_count": null,
   "metadata": {},
   "outputs": [],
   "source": [
    "A = cam_params_est[662]['R']\n",
    "B = cam_params_est[663]['R']\n",
    "print(np.degrees(Rot.from_matrix(A @ B.T).magnitude()))"
   ]
  },
  {
   "cell_type": "code",
   "execution_count": null,
   "metadata": {},
   "outputs": [],
   "source": [
    "for p in closures:\n",
    "    if p.j - p.i > 400:\n",
    "        print(p.i, p.j)"
   ]
  },
  {
   "cell_type": "code",
   "execution_count": null,
   "metadata": {},
   "outputs": [],
   "source": [
    "# print magnitude of GT rotations\n",
    "\n",
    "for i, p in cam_params_gt.items():\n",
    "    print(f\"Frame {i}: {np.degrees(Rot.from_matrix(p['R']).magnitude()):.5f} degrees\")\n",
    "\n",
    "for p in filtered_closures:\n",
    "    print(f'LC: {p.i} to {p.j}')\n",
    "\n",
    "for i, e in angular_err_rel.items():\n",
    "    print(f'Frame {i} error: {e:.3f}%')"
   ]
  }
 ],
 "metadata": {
  "kernelspec": {
   "display_name": "base",
   "language": "python",
   "name": "python3"
  },
  "language_info": {
   "codemirror_mode": {
    "name": "ipython",
    "version": 3
   },
   "file_extension": ".py",
   "mimetype": "text/x-python",
   "name": "python",
   "nbconvert_exporter": "python",
   "pygments_lexer": "ipython3",
   "version": "3.10.13"
  }
 },
 "nbformat": 4,
 "nbformat_minor": 2
}
