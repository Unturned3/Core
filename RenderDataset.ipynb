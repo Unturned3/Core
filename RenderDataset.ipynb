{
 "cells": [
  {
   "cell_type": "code",
   "execution_count": 1,
   "metadata": {},
   "outputs": [],
   "source": [
    "%load_ext autoreload\n",
    "%autoreload 2"
   ]
  },
  {
   "cell_type": "code",
   "execution_count": 2,
   "metadata": {},
   "outputs": [],
   "source": [
    "import numpy as np\n",
    "import matplotlib.pyplot as plt\n",
    "import cv2\n",
    "from tqdm import tqdm\n",
    "import subprocess\n",
    "from pathlib import Path\n",
    "from glob import glob\n",
    "import re\n",
    "import os\n",
    "from os.path import join as pjoin"
   ]
  },
  {
   "cell_type": "code",
   "execution_count": 5,
   "metadata": {},
   "outputs": [],
   "source": [
    "dry_run = False\n",
    "\n",
    "RAW_DIR = '/Users/richard/Desktop/Raw/'\n",
    "OUT_DIR = '/Users/richard/Desktop/Motorized-Dataset/'\n",
    "TRAJS_DIR = OUT_DIR\n",
    "trajs_per_vid = 5\n",
    "\n",
    "renderer_path = '../PanoRenderer/build/main'\n",
    "vids_paths = sorted(glob(pjoin(RAW_DIR, '*.mp4')))\n",
    "trajs_paths = sorted(glob(pjoin(TRAJS_DIR, 't*.npy')))\n",
    "yc_paths = [i[:-4] + '-yc.npy' for i in vids_paths]"
   ]
  },
  {
   "cell_type": "code",
   "execution_count": 6,
   "metadata": {},
   "outputs": [
    {
     "name": "stdout",
     "output_type": "stream",
     "text": [
      "Processing video v00\n",
      "\tUsing trajectory t000...\n",
      "\tUsing trajectory t001...\n",
      "\tUsing trajectory t002...\n",
      "\tUsing trajectory t003...\n",
      "\tUsing trajectory t004...\n",
      "Processing video v01\n",
      "\tUsing trajectory t005...\n",
      "\tUsing trajectory t006...\n",
      "\tUsing trajectory t007...\n",
      "\tUsing trajectory t008...\n",
      "\tUsing trajectory t009...\n",
      "Processing video v02\n",
      "\tUsing trajectory t010...\n",
      "\tUsing trajectory t011...\n",
      "\tUsing trajectory t012...\n",
      "\tUsing trajectory t013...\n",
      "\tUsing trajectory t014...\n",
      "Processing video v03\n",
      "\tUsing trajectory t015...\n",
      "\tUsing trajectory t016...\n",
      "\tUsing trajectory t017...\n",
      "\tUsing trajectory t018...\n",
      "\tUsing trajectory t019...\n",
      "Processing video v04\n",
      "\tUsing trajectory t020...\n",
      "\tUsing trajectory t021...\n",
      "\tUsing trajectory t022...\n",
      "\tUsing trajectory t023...\n",
      "\tUsing trajectory t024...\n",
      "Processing video v05\n",
      "\tUsing trajectory t025...\n",
      "\tUsing trajectory t026...\n",
      "\tUsing trajectory t027...\n",
      "\tUsing trajectory t028...\n",
      "\tUsing trajectory t029...\n"
     ]
    }
   ],
   "source": [
    "render_traj_path = 'tmp-render-traj.npy'\n",
    "\n",
    "\n",
    "traj_idx = 0\n",
    "for vid_path, yc_path in zip(vids_paths, yc_paths):\n",
    "\n",
    "    #a, b, v_id, _ = parse_vid_name(vid_path)\n",
    "    #tqdm.write(f'Processing video {a}-{b}-v{v_id}')\n",
    "\n",
    "    # Sometimes OpenCV fails to read the last few frames of the video.\n",
    "    # So we subtract 30 frames to be safe\n",
    "    cap = cv2.VideoCapture(vid_path)\n",
    "    total_frames = int(cap.get(cv2.CAP_PROP_FRAME_COUNT)) - 30\n",
    "    cap.release()\n",
    "\n",
    "    vid_stem = Path(vid_path).stem\n",
    "    print(f'Processing video {vid_stem}')\n",
    "\n",
    "    for _ in range(trajs_per_vid):\n",
    "\n",
    "        traj_stem = Path(trajs_paths[traj_idx]).stem\n",
    "        print(f'\\tUsing trajectory {traj_stem}...')\n",
    "\n",
    "        # Load desired trajectory & apply yaw correction\n",
    "        traj = np.load(trajs_paths[traj_idx])\n",
    "\n",
    "        # Random start frame\n",
    "        try:\n",
    "            start_frame = np.random.randint(0, total_frames - len(traj))\n",
    "        except:\n",
    "            continue\n",
    "\n",
    "        yc = np.load(yc_path)\n",
    "        for i, e in enumerate(traj, start=start_frame):\n",
    "            e[0] += yc[i]\n",
    "        np.save(render_traj_path, traj)\n",
    "\n",
    "        output_vid_path = pjoin(OUT_DIR, f'{traj_stem}-{vid_stem}.mp4')\n",
    "\n",
    "        render_cmd = [\n",
    "            renderer_path, vid_path, render_traj_path,\n",
    "            output_vid_path, str(start_frame)]\n",
    "\n",
    "        if dry_run:\n",
    "            print('\\t\\t' + ' '.join(render_cmd))\n",
    "        else:\n",
    "            result = subprocess.run(render_cmd)\n",
    "            assert result.returncode == 0\n",
    "\n",
    "        traj_idx += 1\n",
    "\n",
    "try:\n",
    "    os.remove(render_traj_path)\n",
    "except Exception as e:\n",
    "    print(e)"
   ]
  },
  {
   "cell_type": "code",
   "execution_count": null,
   "metadata": {},
   "outputs": [],
   "source": []
  }
 ],
 "metadata": {
  "kernelspec": {
   "display_name": "base",
   "language": "python",
   "name": "python3"
  },
  "language_info": {
   "codemirror_mode": {
    "name": "ipython",
    "version": 3
   },
   "file_extension": ".py",
   "mimetype": "text/x-python",
   "name": "python",
   "nbconvert_exporter": "python",
   "pygments_lexer": "ipython3",
   "version": "3.10.13"
  }
 },
 "nbformat": 4,
 "nbformat_minor": 2
}
